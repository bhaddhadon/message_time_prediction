{
 "cells": [
  {
   "cell_type": "code",
   "execution_count": 1,
   "metadata": {},
   "outputs": [],
   "source": [
    "import pandas as pd \n",
    "import numpy as np \n",
    "import re\n",
    "import openpyxl\n",
    "import datetime\n",
    "import pickle\n",
    "from functools import reduce\n",
    "import os\n",
    "import matplotlib.pyplot as plt\n",
    "from sklearn.pipeline import Pipeline\n",
    "from sklearn.impute import SimpleImputer\n",
    "from sklearn.compose import ColumnTransformer\n",
    "from sklearn.preprocessing import StandardScaler, OneHotEncoder, OrdinalEncoder, LabelEncoder\n",
    "from sklearn.ensemble import RandomForestClassifier, GradientBoostingClassifier, ExtraTreesClassifier\n",
    "from sklearn.feature_selection import SelectFromModel\n",
    "from sklearn.model_selection import train_test_split, GridSearchCV, StratifiedKFold\n",
    "from sklearn.metrics import f1_score, precision_score, recall_score, accuracy_score"
   ]
  },
  {
   "cell_type": "markdown",
   "metadata": {},
   "source": [
    "## Read CSV"
   ]
  },
  {
   "cell_type": "code",
   "execution_count": 2,
   "metadata": {},
   "outputs": [],
   "source": [
    "# client level\n",
    "df_clients = pd.read_csv('clients.csv')\n",
    "df_clients.columns = [i.lower() for i in df_clients.columns.values]\n",
    "\n",
    "# customer level\n",
    "df_customers = pd.read_csv('customers.csv')\n",
    "df_customers.columns = [i.lower() for i in df_customers.columns.values]\n",
    "\n",
    "# attempt level\n",
    "df_messages = pd.read_csv('messages.csv')\n",
    "df_messages.columns = [i.lower() for i in df_messages.columns.values]"
   ]
  },
  {
   "cell_type": "code",
   "execution_count": null,
   "metadata": {},
   "outputs": [],
   "source": []
  },
  {
   "cell_type": "markdown",
   "metadata": {},
   "source": [
    "## Data manipulation, EDA and imputation"
   ]
  },
  {
   "cell_type": "code",
   "execution_count": 3,
   "metadata": {},
   "outputs": [
    {
     "name": "stdout",
     "output_type": "stream",
     "text": [
      "clients rows bf dedup:8\n",
      "clients rows aft dedup:8\n",
      "customers rows bf merged with clients:10000\n",
      "customers rows aft merged with clients:10000\n"
     ]
    }
   ],
   "source": [
    "#-----------------------------------------------------------------------\n",
    "# merge client details to customer level data\n",
    "# impute age and country by cohort, created by client details\n",
    "#-----------------------------------------------------------------------\n",
    "\n",
    "# check duplications in df_clients\n",
    "df_clients.fillna('na').groupby(by='id',as_index=False)['name'].count().sort_values(by='name',ascending=0)\n",
    "# no duplication, dedup anyway\n",
    "print(f\"clients rows bf dedup:{df_clients.shape[0]}\")\n",
    "df_clients.drop_duplicates(subset='id',keep='first',inplace=True)\n",
    "print(f\"clients rows aft dedup:{df_clients.shape[0]}\")\n",
    "\n",
    "# merge\n",
    "print(f\"customers rows bf merged with clients:{df_customers.shape[0]}\")\n",
    "rename_dict = {'id':'client_id','country':'client_country'}\n",
    "dfs = [df_customers, df_clients.rename(columns=rename_dict)]\n",
    "df_clients_customers = reduce(lambda left,right: pd.merge(left,right,on='client_id',how='left'), dfs)\n",
    "print(f\"customers rows aft merged with clients:{df_clients_customers.shape[0]}\")\n",
    "\n",
    "# impute customer's country with client's country\n",
    "\n",
    "df_clients_customers['country'] = np.where(df_clients_customers['country'].isnull(),\n",
    "                                           df_clients_customers['client_country'],\n",
    "                                           df_clients_customers['country'])\n",
    "# check missing country\n",
    "# UK    4490\n",
    "# CA    2995\n",
    "# NZ    2515\n",
    "# df_clients_customers['country'].value_counts(dropna=False)\n",
    "# no missing country"
   ]
  },
  {
   "cell_type": "code",
   "execution_count": 4,
   "metadata": {},
   "outputs": [
    {
     "name": "stdout",
     "output_type": "stream",
     "text": [
      "d.50up     3775\n",
      "b.25-39    3264\n",
      "a.<25      1969\n",
      "c.40-49     992\n",
      "Name: age_grp, dtype: int64\n",
      "F    5287\n",
      "M    4713\n",
      "Name: gender, dtype: int64\n"
     ]
    },
    {
     "data": {
      "image/png": "[encoded data removed]",
      "text/plain": [
       "<Figure size 432x288 with 1 Axes>"
      ]
     },
     "metadata": {
      "needs_background": "light"
     },
     "output_type": "display_data"
    }
   ],
   "source": [
    "#-----------------------------------------------------------------------\n",
    "# see age distribution\n",
    "#\n",
    "# range(0,110,10)\n",
    "# [18., 21., 24., 26., 30., 38., 47., 51., 56., 65., 96.]\n",
    "#\n",
    "# quarters [0,25,50,75,100]\n",
    "# [18. 25. 38. 52. 96.]\n",
    "#\n",
    "# extremes [0,1,5,10,90,95,99,100]\n",
    "# [18., 19., 20., 21., 65., 74., 87., 96.]\n",
    "#-----------------------------------------------------------------------\n",
    "\n",
    "# np.percentile(df_clients_customers.dropna()['age'],range(0,110,10))\n",
    "# np.percentile(df_clients_customers.dropna()['age'],[0,1,5,10,90,95,99,100])\n",
    "# np.percentile(df_clients_customers.dropna()['age'],[0,25,50,75,100])\n",
    "\n",
    "# visualize\n",
    "plt.hist(df_clients_customers.dropna()['age'], density=True, bins=30)\n",
    "\n",
    "# from the visualize divide by quarter make sense\n",
    "# as age is divided into jobbers (BNPL target), early-mid career, late career and pensioners\n",
    "# or generations: gen Z, millenials, gen X, boomers\n",
    "\n",
    "def age_grp(age):\n",
    "    if pd.isnull(age):\n",
    "        age_grp = None\n",
    "    elif age < 25:\n",
    "        age_grp = 'a.<25'\n",
    "    elif age < 40:\n",
    "        age_grp = 'b.25-39'\n",
    "    elif age < 50:\n",
    "        age_grp = 'c.40-49'\n",
    "    else:\n",
    "        age_grp = 'd.50up'\n",
    "    return age_grp\n",
    "\n",
    "df_clients_customers['age_grp'] = df_clients_customers['age'].apply(age_grp)\n",
    "\n",
    "# impute customer's age_grp by cohort\n",
    "# cohort is formed by country and product_type\n",
    "# create dictionary containing mode age_grp of each cohort key\n",
    "\n",
    "age_impute_dict = df_clients_customers.groupby(by=['country','product_type'])['age_grp'].apply(lambda x: x.mode().iloc[0]).to_dict()\n",
    "df_clients_customers['age_grp'] = df_clients_customers.apply(lambda row: age_impute_dict[(row['country'],row['product_type'])] if pd.isnull(row['age']) else row['age_grp'],axis=1)\n",
    "print(df_clients_customers['age_grp'].value_counts(dropna=False))\n",
    "\n",
    "# impute customer's gender by cohort\n",
    "# cohort is formed by country, product_type and age_grp\n",
    "# create dictionary containing mode gender of each cohort key\n",
    "\n",
    "gender_impute_dict = df_clients_customers.groupby(by=['country','product_type','age_grp'])['gender'].apply(lambda x: x.mode().iloc[0]).to_dict()\n",
    "df_clients_customers['gender'] = df_clients_customers.apply(lambda row: gender_impute_dict[(row['country'],row['product_type'],row['age_grp'])] if pd.isnull(row['gender']) else row['gender'],axis=1)\n",
    "print(df_clients_customers['gender'].value_counts(dropna=False))\n",
    "\n",
    "### save age_impute_dict and gender_impute_dict\n",
    "with open('./trg/age_impute_dict.pkl', 'wb') as f:\n",
    "    pickle.dump(age_impute_dict, f)\n",
    "with open('./trg/gender_impute_dict.pkl', 'wb') as f:\n",
    "    pickle.dump(gender_impute_dict, f)\n",
    "\n",
    "## save df_clients_customers\n",
    "\n",
    "df_clients_customers.to_pickle(\"./trg/customer_details.pkl\")\n"
   ]
  },
  {
   "cell_type": "code",
   "execution_count": 112,
   "metadata": {},
   "outputs": [],
   "source": []
  },
  {
   "cell_type": "code",
   "execution_count": 67,
   "metadata": {},
   "outputs": [
    {
     "data": {
      "text/plain": [
       "0         2021-01-04 10:03:16.376000+00:00\n",
       "1         2021-01-04 10:42:47.027000+00:00\n",
       "2         2021-01-04 11:18:23.996000+00:00\n",
       "3         2021-01-04 12:53:56.733000+00:00\n",
       "4         2021-01-04 12:54:02.700000+00:00\n",
       "                        ...               \n",
       "145936    2021-10-01 19:55:16.059000+00:00\n",
       "145937    2021-10-01 19:56:00.363000+00:00\n",
       "145938    2021-10-01 19:57:24.141000+00:00\n",
       "145939    2021-10-01 19:58:07.041000+00:00\n",
       "145940    2021-10-01 19:58:46.086000+00:00\n",
       "Name: sent_at, Length: 145941, dtype: object"
      ]
     },
     "execution_count": 67,
     "metadata": {},
     "output_type": "execute_result"
    }
   ],
   "source": [
    " "
   ]
  },
  {
   "cell_type": "code",
   "execution_count": 113,
   "metadata": {},
   "outputs": [
    {
     "name": "stdout",
     "output_type": "stream",
     "text": [
      "messages rows bf merged with clients:145941\n",
      "messages rows aft merged with clients_customers:145941\n"
     ]
    },
    {
     "data": {
      "text/plain": [
       "209    7803\n",
       "510    7685\n",
       "309    7679\n",
       "310    7652\n",
       "409    7573\n",
       "509    7533\n",
       "410    7527\n",
       "210    7520\n",
       "511    5481\n",
       "311    5477\n",
       "211    5442\n",
       "411    5438\n",
       "208    3254\n",
       "408    3170\n",
       "308    3150\n",
       "508    3111\n",
       "111    1620\n",
       "114    1443\n",
       "116    1422\n",
       "213    1412\n",
       "514    1412\n",
       "413    1408\n",
       "113    1401\n",
       "216    1399\n",
       "314    1399\n",
       "412    1391\n",
       "416    1388\n",
       "512    1386\n",
       "212    1372\n",
       "214    1369\n",
       "515    1368\n",
       "313    1360\n",
       "414    1360\n",
       "215    1349\n",
       "115    1344\n",
       "516    1339\n",
       "312    1332\n",
       "513    1324\n",
       "415    1323\n",
       "316    1315\n",
       "315    1307\n",
       "112    1291\n",
       "110    1280\n",
       "109    1190\n",
       "117    1071\n",
       "517    1062\n",
       "417    1049\n",
       "217    1046\n",
       "317    1008\n",
       "318     679\n",
       "519     640\n",
       "518     636\n",
       "119     634\n",
       "218     633\n",
       "319     631\n",
       "108     629\n",
       "418     623\n",
       "118     619\n",
       "419     613\n",
       "219     569\n",
       "Name: time_of_week, dtype: int64"
      ]
     },
     "execution_count": 113,
     "metadata": {},
     "output_type": "execute_result"
    }
   ],
   "source": [
    "#-----------------------------------------------------------------------\n",
    "# analysis needsto be done at attempt level\n",
    "# map client and customer details to attempt level data\n",
    "#-----------------------------------------------------------------------\n",
    "\n",
    "# check missing 'sent_at' and 'clicked' in df_messages\n",
    "df_messages.loc[:, df_messages.isnull().any()].columns\n",
    "# no missing\n",
    "\n",
    "# merge\n",
    "print(f\"messages rows bf merged with clients:{df_messages.shape[0]}\")\n",
    "rename_dict = {'id':'customer_id'}\n",
    "# 'converted','age' and 'client_country' are not needed\n",
    "dfs = [df_messages.drop(columns='converted',axis=1), \n",
    "       df_clients_customers.rename(columns=rename_dict).drop(columns=['age','client_country'],axis=1)]\n",
    "df = reduce(lambda left,right: pd.merge(left,right,on='customer_id',how='left'), dfs)\n",
    "print(f\"messages rows aft merged with clients_customers:{df_messages.shape[0]}\")\n",
    "\n",
    "# create ordinal feature - time of week\n",
    "# first digit represent day of week, starting from Monday (1)\n",
    "# second and third digit represent hour of day\n",
    "\n",
    "df['sent_at'] = df['sent_at'].apply(lambda x: datetime.datetime.strptime(x[:19],'%Y-%m-%d %H:%M:%S'))\n",
    "df['time_of_week'] = df['sent_at'].apply(lambda x: (int(x.isoweekday())*100)+int(x.strftime('%H')))\n",
    "df['time_of_week'].value_counts(dropna=False)"
   ]
  },
  {
   "cell_type": "markdown",
   "metadata": {},
   "source": [
    "# Main Idea\n",
    "### 1) build a binary classification model to predict 'clicked', 'time of week' being one of the feature\n",
    "### 2) Once the model is ready, since everything else is constant, the only degree of freedom is time to message\n",
    "### 3) We then put in all possible hour of the week and pick only hour which product top probability of cliked"
   ]
  },
  {
   "cell_type": "code",
   "execution_count": 104,
   "metadata": {},
   "outputs": [
    {
     "data": {
      "text/plain": [
       "Index(['id', 'clicked', 'gender', 'country', 'product_type', 'age_grp',\n",
       "       'time_of_week'],\n",
       "      dtype='object')"
      ]
     },
     "execution_count": 104,
     "metadata": {},
     "output_type": "execute_result"
    }
   ],
   "source": []
  },
  {
   "cell_type": "markdown",
   "metadata": {},
   "source": [
    "## build pipeline"
   ]
  },
  {
   "cell_type": "code",
   "execution_count": 135,
   "metadata": {},
   "outputs": [
    {
     "name": "stdout",
     "output_type": "stream",
     "text": [
      "Fitting 3 folds for each of 22 candidates, totalling 66 fits\n"
     ]
    }
   ],
   "source": [
    "cols_to_drop = ['client_id','customer_id','sent_at','created_at','name']\n",
    "df_abt = df.drop(columns=cols_to_drop,axis=1)\n",
    "\n",
    "# manipulate content in columns to lower case\n",
    "lower_case_cols = ['gender','country','product_type']\n",
    "for col in lower_case_cols:\n",
    "    df_abt[col] = df_abt[col].apply(lambda x: x.lower()) \n",
    "\n",
    "target = 'clicked'\n",
    "\n",
    "# ordinal\n",
    "ordinal_features = ['age_grp','time_of_week']\n",
    "\n",
    "#levels for ordinals\n",
    "cat_age_lvl = [sorted(df_abt['age_grp'].unique())]\n",
    "cat_tow_lvl = [sorted([(i*100)+j for j in range(0,24) for i in range(1,8)])]\n",
    "\n",
    "# categorical\n",
    "cat_gender = [df_abt['gender'].unique()]\n",
    "cat_country= [df_abt['country'].unique()]\n",
    "cat_product_type = [df_abt['product_type'].unique()]\n",
    "\n",
    "# Prepare scaler, preprocessor\n",
    "preprocessor = ColumnTransformer(\n",
    "    transformers=[\n",
    "        ('age_grp',OrdinalEncoder(categories=cat_age_lvl), ['age_grp']),\n",
    "        ('time_of_week',OrdinalEncoder(categories=cat_tow_lvl), ['time_of_week']),\n",
    "        ('gender', OneHotEncoder(categories=cat_gender,handle_unknown='ignore'), ['gender']),\n",
    "        ('country', OneHotEncoder(categories=cat_country,handle_unknown='ignore'), ['country']),\n",
    "        ('product_type', OneHotEncoder(categories=cat_product_type,handle_unknown='ignore'), ['product_type'])\n",
    "    ]\n",
    ")\n",
    "\n",
    "# Prepare transformed column names\n",
    "\n",
    "transformers = preprocessor.transformers\n",
    "\n",
    "def get_features_names(transformer):\n",
    "    transformed_cols = []\n",
    "    steps = range(len(transformer))\n",
    "    for step in steps:\n",
    "        if type(transformers[step][1]) == type(OrdinalEncoder()):\n",
    "            ordinal_cols = transformers[step][-1]\n",
    "            transformed_cols = transformed_cols + [i for i in ordinal_cols]\n",
    "        else:\n",
    "            new_cols = [i+'_'+j for j in transformers[step][1].categories[0] for i in transformers[step][-1]]\n",
    "            transformed_cols = transformed_cols + [i for i in new_cols]\n",
    "    return transformed_cols\n",
    "\n",
    "transformed_cols = get_features_names(transformers)\n",
    "\n",
    "\n",
    "## Train-test split\n",
    "\n",
    "X = df_abt.drop(columns=target,axis=1)\n",
    "Y = df_abt[target]\n",
    "\n",
    "X_train, X_test, y_train, y_test = train_test_split(X, Y, \n",
    "                                                    random_state=9000, \n",
    "                                                    test_size=0.2,\n",
    "                                                    stratify=Y)\n",
    "\n",
    "pipe = Pipeline(steps=[('preprocessor', preprocessor),\n",
    "                       ('clf',GradientBoostingClassifier())]) #dummy\n",
    "\n",
    "k_fold = StratifiedKFold(n_splits=3, shuffle=True, random_state=0)\n",
    "\n",
    "# Hyperparameters \n",
    "\n",
    "param_grid = [{'clf':[GradientBoostingClassifier()],\n",
    "            'clf__n_estimators': [100],\n",
    "            'clf__max_depth': [3,4],\n",
    "            'clf__min_samples_leaf': [2,3],\n",
    "            'clf__learning_rate': [0.1,0.05,0.03,0.01]\n",
    "            },\n",
    "            {'clf':[RandomForestClassifier()],\n",
    "            'clf__n_estimators': [500],\n",
    "            'clf__max_depth': [4,5,6],\n",
    "            'clf__max_features':['sqrt'],\n",
    "            'clf__min_samples_leaf': [2,3]}]\n",
    "\n",
    "best_model = GridSearchCV(pipe, param_grid = param_grid, scoring='accuracy',\n",
    "                          cv = k_fold, n_jobs = -1, verbose = 1)\n",
    "\n",
    "# fit pipeline\n",
    "best_model.fit(X_train, y_train)\n",
    "\n",
    "# score\n",
    "y_pred = best_model.predict(X_test)\n"
   ]
  },
  {
   "cell_type": "code",
   "execution_count": 136,
   "metadata": {},
   "outputs": [
    {
     "name": "stdout",
     "output_type": "stream",
     "text": [
      "classifier: GradientBoostingClassifier(min_samples_leaf=2)\n",
      "Model Accuracy: 0.936\n",
      "Precision of postive cases: 0.88\n",
      "Recall of postive cases: 0.94\n",
      "F1 Score of postive cases: 0.90\n"
     ]
    }
   ],
   "source": [
    "def get_kpis(pipeline,y_pred):\n",
    "\n",
    "    # Calculat Accuracy, Precision, Recall, F1 Score\n",
    "\n",
    "    # metrics = precision_recall_fscore_support(y_test, pipeline.predict(X_test))\n",
    "    accuracy =accuracy_score(y_test, y_pred)\n",
    "    precision =precision_score(y_test, y_pred, average='weighted',zero_division=0)\n",
    "    recall =recall_score(y_test, y_pred, average='weighted',zero_division=0)\n",
    "    f1 =f1_score(y_test, y_pred, average='weighted',zero_division=0)\n",
    "\n",
    "    print(f\"classifier: {pipeline.best_estimator_.named_steps['clf']}\")\n",
    "    print(\"Model Accuracy: {:.3f}\".format(accuracy))\n",
    "    print(\"Precision of postive cases: {:.2f}\".format(precision))\n",
    "    print(\"Recall of postive cases: {:.2f}\".format(recall))\n",
    "    print(\"F1 Score of postive cases: {:.2f}\".format(f1))\n",
    "\n",
    "get_kpis(best_model,y_pred)"
   ]
  },
  {
   "cell_type": "code",
   "execution_count": 138,
   "metadata": {},
   "outputs": [
    {
     "data": {
      "image/png": "[encoded data removed]",
      "text/plain": [
       "<Figure size 576x576 with 1 Axes>"
      ]
     },
     "metadata": {
      "needs_background": "light"
     },
     "output_type": "display_data"
    }
   ],
   "source": [
    "def get_feature_importance(clf,y_pred):\n",
    "    '''Get Feature importance data using feature_importances_ attribute'''\n",
    "\n",
    "    feature_importance = clf.feature_importances_\n",
    "    sorted_idx = np.argsort(feature_importance)\n",
    "    pos = np.arange(sorted_idx.shape[0]) + .5\n",
    "    fig = plt.figure(figsize=(8, 8))\n",
    "    plt.barh(pos, feature_importance[sorted_idx], align='center')\n",
    "    plt.yticks(pos, np.array(transformed_cols)[sorted_idx])\n",
    "    plt.title('Feature Importance')\n",
    "    fig.tight_layout()\n",
    "\n",
    "get_feature_importance(best_model.best_estimator_.named_steps['clf'],y_pred)"
   ]
  },
  {
   "cell_type": "markdown",
   "metadata": {},
   "source": [
    "## Save pipeline for preprocessor and model"
   ]
  },
  {
   "cell_type": "code",
   "execution_count": null,
   "metadata": {},
   "outputs": [],
   "source": []
  },
  {
   "cell_type": "code",
   "execution_count": 140,
   "metadata": {},
   "outputs": [],
   "source": [
    "with open('./trg/model_pipeline.pkl', 'wb') as f:\n",
    "    pickle.dump(best_model.best_estimator_, f)"
   ]
  }
 ],
 "metadata": {
  "interpreter": {
   "hash": "06a6aaded2eddfacce48838df1eb48db94706e28754b48676ed0de5791f50a44"
  },
  "kernelspec": {
   "display_name": "Python 3.9.7 64-bit ('py39': conda)",
   "name": "python3"
  },
  "language_info": {
   "codemirror_mode": {
    "name": "ipython",
    "version": 3
   },
   "file_extension": ".py",
   "mimetype": "text/x-python",
   "name": "python",
   "nbconvert_exporter": "python",
   "pygments_lexer": "ipython3",
   "version": "3.9.7"
  },
  "orig_nbformat": 4
 },
 "nbformat": 4,
 "nbformat_minor": 2
}
