{
 "cells": [
  {
   "cell_type": "code",
   "execution_count": 1,
   "metadata": {},
   "outputs": [],
   "source": [
    "import pandas as pd \n",
    "import numpy as np \n",
    "import re\n",
    "import openpyxl\n",
    "import datetime\n",
    "import pickle\n",
    "from functools import reduce\n",
    "import os\n",
    "import matplotlib.pyplot as plt\n",
    "from sklearn.pipeline import Pipeline\n",
    "from sklearn.impute import SimpleImputer\n",
    "from sklearn.compose import ColumnTransformer\n",
    "from sklearn.preprocessing import StandardScaler, OneHotEncoder, OrdinalEncoder, LabelEncoder\n",
    "from sklearn.ensemble import RandomForestClassifier, GradientBoostingClassifier, ExtraTreesClassifier\n",
    "from sklearn.feature_selection import SelectFromModel\n",
    "from sklearn.model_selection import train_test_split, GridSearchCV, StratifiedKFold\n",
    "from sklearn.metrics import f1_score, precision_score, recall_score, accuracy_score"
   ]
  },
  {
   "cell_type": "markdown",
   "metadata": {},
   "source": [
    "## Read CSV"
   ]
  },
  {
   "cell_type": "code",
   "execution_count": 10,
   "metadata": {},
   "outputs": [
    {
     "data": {
      "text/html": [
       "<div>\n",
       "<style scoped>\n",
       "    .dataframe tbody tr th:only-of-type {\n",
       "        vertical-align: middle;\n",
       "    }\n",
       "\n",
       "    .dataframe tbody tr th {\n",
       "        vertical-align: top;\n",
       "    }\n",
       "\n",
       "    .dataframe thead th {\n",
       "        text-align: right;\n",
       "    }\n",
       "</style>\n",
       "<table border=\"1\" class=\"dataframe\">\n",
       "  <thead>\n",
       "    <tr style=\"text-align: right;\">\n",
       "      <th></th>\n",
       "      <th>customer_id</th>\n",
       "    </tr>\n",
       "  </thead>\n",
       "  <tbody>\n",
       "    <tr>\n",
       "      <th>0</th>\n",
       "      <td>b4de0353429533924e779183adfb1cf9</td>\n",
       "    </tr>\n",
       "    <tr>\n",
       "      <th>1</th>\n",
       "      <td>07c32749f8e297d3231ac20c28afa537</td>\n",
       "    </tr>\n",
       "    <tr>\n",
       "      <th>2</th>\n",
       "      <td>07ec4f2a77cb99fd0af4495f6661fda4</td>\n",
       "    </tr>\n",
       "    <tr>\n",
       "      <th>3</th>\n",
       "      <td>c6ed93cbaa003d364994413cd53f2420</td>\n",
       "    </tr>\n",
       "    <tr>\n",
       "      <th>4</th>\n",
       "      <td>fd8a4b30b1600bec91561d00cb04f944</td>\n",
       "    </tr>\n",
       "    <tr>\n",
       "      <th>...</th>\n",
       "      <td>...</td>\n",
       "    </tr>\n",
       "    <tr>\n",
       "      <th>95</th>\n",
       "      <td>1add71a15419b5c976077637409da248</td>\n",
       "    </tr>\n",
       "    <tr>\n",
       "      <th>96</th>\n",
       "      <td>61139f330db231ea740f7a95fa27e2db</td>\n",
       "    </tr>\n",
       "    <tr>\n",
       "      <th>97</th>\n",
       "      <td>31f03194be06a4efe41e906740a52e3a</td>\n",
       "    </tr>\n",
       "    <tr>\n",
       "      <th>98</th>\n",
       "      <td>bee36dcd59d38d1ea86c2f6c94e369e6</td>\n",
       "    </tr>\n",
       "    <tr>\n",
       "      <th>99</th>\n",
       "      <td>6efb3db2657800ef400953e39616795c</td>\n",
       "    </tr>\n",
       "  </tbody>\n",
       "</table>\n",
       "<p>100 rows × 1 columns</p>\n",
       "</div>"
      ],
      "text/plain": [
       "                         customer_id\n",
       "0   b4de0353429533924e779183adfb1cf9\n",
       "1   07c32749f8e297d3231ac20c28afa537\n",
       "2   07ec4f2a77cb99fd0af4495f6661fda4\n",
       "3   c6ed93cbaa003d364994413cd53f2420\n",
       "4   fd8a4b30b1600bec91561d00cb04f944\n",
       "..                               ...\n",
       "95  1add71a15419b5c976077637409da248\n",
       "96  61139f330db231ea740f7a95fa27e2db\n",
       "97  31f03194be06a4efe41e906740a52e3a\n",
       "98  bee36dcd59d38d1ea86c2f6c94e369e6\n",
       "99  6efb3db2657800ef400953e39616795c\n",
       "\n",
       "[100 rows x 1 columns]"
      ]
     },
     "execution_count": 10,
     "metadata": {},
     "output_type": "execute_result"
    }
   ],
   "source": [
    "# sample customer\n",
    "df_sample = pd.read_csv('sample_customer_ids.csv')\n",
    "df_sample.columns = [i.lower() for i in df_sample.columns.values]"
   ]
  },
  {
   "cell_type": "markdown",
   "metadata": {},
   "source": [
    "## Read pickle"
   ]
  },
  {
   "cell_type": "code",
   "execution_count": 4,
   "metadata": {},
   "outputs": [],
   "source": [
    "df_customer = pd.read_pickle(\"./trg/customer_details.pkl\")\n",
    "\n",
    "with open('./trg/model_pipeline.pkl', 'rb') as f:\n",
    "    model_pipeline = pickle.load(f)"
   ]
  },
  {
   "cell_type": "markdown",
   "metadata": {},
   "source": [
    "## get customer details of sample customers"
   ]
  },
  {
   "cell_type": "code",
   "execution_count": null,
   "metadata": {},
   "outputs": [],
   "source": [
    "cols_to_keep = ['age_grp','gender','country','product_type']\n",
    "rename_dict = {'id':'customer_id'}\n",
    "dfs = [df_sample, df_customer[cols_to_keep].rename(columns=rename_dict)]\n",
    "df = reduce(lambda left,right: pd.merge(left,right,on='client_id',how='left'), dfs)\n",
    "\n",
    "for col in ['gender','country','product_type']:\n",
    "    df[col] = df[col].apply(lambda x: str(x).lower())"
   ]
  },
  {
   "cell_type": "markdown",
   "metadata": {},
   "source": [
    "## Prepare eligible time to call for each country"
   ]
  },
  {
   "cell_type": "code",
   "execution_count": 32,
   "metadata": {},
   "outputs": [
    {
     "data": {
      "text/plain": [
       "{1: datetime.datetime(2021, 10, 4, 0, 0),\n",
       " 2: datetime.datetime(2021, 10, 5, 0, 0),\n",
       " 3: datetime.datetime(2021, 10, 6, 0, 0),\n",
       " 4: datetime.datetime(2021, 10, 7, 0, 0),\n",
       " 5: datetime.datetime(2021, 10, 8, 0, 0),\n",
       " 6: datetime.datetime(2021, 10, 9, 0, 0),\n",
       " 7: datetime.datetime(2021, 10, 10, 0, 0)}"
      ]
     },
     "execution_count": 32,
     "metadata": {},
     "output_type": "execute_result"
    }
   ],
   "source": [
    "## get day of week of Oct 4th to 10th\n",
    "\n",
    "unique_dow = list(set([int(datetime.datetime(2021,10,x,0,0,0).isoweekday()) for x in range(4,11)]))\n",
    "\n",
    "date_dict = {}\n",
    "for num in range(4,11):\n",
    "    key = datetime.datetime(2021,10,num,0,0,0)\n",
    "    val = int(key.isoweekday())\n",
    "    date_dict[key] = val\n",
    "\n",
    "reverse_date_dict = {v: k for k, v in date_dict.items()}\n",
    "\n",
    "## eligible time by country\n",
    "\n",
    "# Canada: 9am to 5pm (No weekends)\n",
    "# New Zealand: 9am to 6pm (No weekends)\n",
    "# UK: 8am to 8pm (No weekends)\n",
    "\n",
    "time_range_dict = {\n",
    "    'ca':{'start':9,'end':17},\n",
    "    'nz':{'start':9,'end':18},\n",
    "    'uk':{'start':8,'end':20}\n",
    "}"
   ]
  },
  {
   "cell_type": "code",
   "execution_count": 23,
   "metadata": {},
   "outputs": [
    {
     "data": {
      "text/html": [
       "<div>\n",
       "<style scoped>\n",
       "    .dataframe tbody tr th:only-of-type {\n",
       "        vertical-align: middle;\n",
       "    }\n",
       "\n",
       "    .dataframe tbody tr th {\n",
       "        vertical-align: top;\n",
       "    }\n",
       "\n",
       "    .dataframe thead th {\n",
       "        text-align: right;\n",
       "    }\n",
       "</style>\n",
       "<table border=\"1\" class=\"dataframe\">\n",
       "  <thead>\n",
       "    <tr style=\"text-align: right;\">\n",
       "      <th></th>\n",
       "      <th>customer_id</th>\n",
       "      <th>age_grp</th>\n",
       "      <th>gender</th>\n",
       "      <th>country</th>\n",
       "      <th>product_type</th>\n",
       "      <th>time_of_week</th>\n",
       "    </tr>\n",
       "  </thead>\n",
       "  <tbody>\n",
       "    <tr>\n",
       "      <th>0</th>\n",
       "      <td>b4de0353429533924e779183adfb1cf9</td>\n",
       "      <td>d.50up</td>\n",
       "      <td>m</td>\n",
       "      <td>uk</td>\n",
       "      <td>creditcard</td>\n",
       "      <td>108</td>\n",
       "    </tr>\n",
       "    <tr>\n",
       "      <th>1</th>\n",
       "      <td>b4de0353429533924e779183adfb1cf9</td>\n",
       "      <td>d.50up</td>\n",
       "      <td>m</td>\n",
       "      <td>uk</td>\n",
       "      <td>creditcard</td>\n",
       "      <td>109</td>\n",
       "    </tr>\n",
       "    <tr>\n",
       "      <th>2</th>\n",
       "      <td>b4de0353429533924e779183adfb1cf9</td>\n",
       "      <td>d.50up</td>\n",
       "      <td>m</td>\n",
       "      <td>uk</td>\n",
       "      <td>creditcard</td>\n",
       "      <td>110</td>\n",
       "    </tr>\n",
       "    <tr>\n",
       "      <th>3</th>\n",
       "      <td>b4de0353429533924e779183adfb1cf9</td>\n",
       "      <td>d.50up</td>\n",
       "      <td>m</td>\n",
       "      <td>uk</td>\n",
       "      <td>creditcard</td>\n",
       "      <td>111</td>\n",
       "    </tr>\n",
       "    <tr>\n",
       "      <th>4</th>\n",
       "      <td>b4de0353429533924e779183adfb1cf9</td>\n",
       "      <td>d.50up</td>\n",
       "      <td>m</td>\n",
       "      <td>uk</td>\n",
       "      <td>creditcard</td>\n",
       "      <td>112</td>\n",
       "    </tr>\n",
       "    <tr>\n",
       "      <th>...</th>\n",
       "      <td>...</td>\n",
       "      <td>...</td>\n",
       "      <td>...</td>\n",
       "      <td>...</td>\n",
       "      <td>...</td>\n",
       "      <td>...</td>\n",
       "    </tr>\n",
       "    <tr>\n",
       "      <th>7940</th>\n",
       "      <td>6efb3db2657800ef400953e39616795c</td>\n",
       "      <td>b.25-39</td>\n",
       "      <td>m</td>\n",
       "      <td>uk</td>\n",
       "      <td>bnpl</td>\n",
       "      <td>716</td>\n",
       "    </tr>\n",
       "    <tr>\n",
       "      <th>7941</th>\n",
       "      <td>6efb3db2657800ef400953e39616795c</td>\n",
       "      <td>b.25-39</td>\n",
       "      <td>m</td>\n",
       "      <td>uk</td>\n",
       "      <td>bnpl</td>\n",
       "      <td>717</td>\n",
       "    </tr>\n",
       "    <tr>\n",
       "      <th>7942</th>\n",
       "      <td>6efb3db2657800ef400953e39616795c</td>\n",
       "      <td>b.25-39</td>\n",
       "      <td>m</td>\n",
       "      <td>uk</td>\n",
       "      <td>bnpl</td>\n",
       "      <td>718</td>\n",
       "    </tr>\n",
       "    <tr>\n",
       "      <th>7943</th>\n",
       "      <td>6efb3db2657800ef400953e39616795c</td>\n",
       "      <td>b.25-39</td>\n",
       "      <td>m</td>\n",
       "      <td>uk</td>\n",
       "      <td>bnpl</td>\n",
       "      <td>719</td>\n",
       "    </tr>\n",
       "    <tr>\n",
       "      <th>7944</th>\n",
       "      <td>6efb3db2657800ef400953e39616795c</td>\n",
       "      <td>b.25-39</td>\n",
       "      <td>m</td>\n",
       "      <td>uk</td>\n",
       "      <td>bnpl</td>\n",
       "      <td>720</td>\n",
       "    </tr>\n",
       "  </tbody>\n",
       "</table>\n",
       "<p>7945 rows × 6 columns</p>\n",
       "</div>"
      ],
      "text/plain": [
       "                           customer_id  age_grp gender country product_type  \\\n",
       "0     b4de0353429533924e779183adfb1cf9   d.50up      m      uk   creditcard   \n",
       "1     b4de0353429533924e779183adfb1cf9   d.50up      m      uk   creditcard   \n",
       "2     b4de0353429533924e779183adfb1cf9   d.50up      m      uk   creditcard   \n",
       "3     b4de0353429533924e779183adfb1cf9   d.50up      m      uk   creditcard   \n",
       "4     b4de0353429533924e779183adfb1cf9   d.50up      m      uk   creditcard   \n",
       "...                                ...      ...    ...     ...          ...   \n",
       "7940  6efb3db2657800ef400953e39616795c  b.25-39      m      uk         bnpl   \n",
       "7941  6efb3db2657800ef400953e39616795c  b.25-39      m      uk         bnpl   \n",
       "7942  6efb3db2657800ef400953e39616795c  b.25-39      m      uk         bnpl   \n",
       "7943  6efb3db2657800ef400953e39616795c  b.25-39      m      uk         bnpl   \n",
       "7944  6efb3db2657800ef400953e39616795c  b.25-39      m      uk         bnpl   \n",
       "\n",
       "      time_of_week  \n",
       "0              108  \n",
       "1              109  \n",
       "2              110  \n",
       "3              111  \n",
       "4              112  \n",
       "...            ...  \n",
       "7940           716  \n",
       "7941           717  \n",
       "7942           718  \n",
       "7943           719  \n",
       "7944           720  \n",
       "\n",
       "[7945 rows x 6 columns]"
      ]
     },
     "execution_count": 23,
     "metadata": {},
     "output_type": "execute_result"
    }
   ],
   "source": [
    "cols = [i for i in df.columns.values]\n",
    "i=0\n",
    "for idx,row in df.iterrows():\n",
    "    time_start_end = time_range_dict[row['country']]\n",
    "    time_range = range(time_start_end['start'],time_start_end['end']+1)\n",
    "    for dow in unique_dow:\n",
    "        for hour in time_range:\n",
    "            df_temp = df.iloc[idx:idx+1].copy()\n",
    "            df_temp['time_of_week'] = (dow*100)+hour\n",
    "            if i==0:\n",
    "                df_abt = df_temp.copy()\n",
    "            else:\n",
    "                df_abt = pd.concat([df_abt,df_temp],ignore_index=True).reset_index(drop=True)\n",
    "            i=i+1\n",
    "\n",
    "df_abt\n"
   ]
  },
  {
   "cell_type": "markdown",
   "metadata": {},
   "source": [
    "## Score and pick best hour to call"
   ]
  },
  {
   "cell_type": "code",
   "execution_count": 43,
   "metadata": {},
   "outputs": [
    {
     "name": "stderr",
     "output_type": "stream",
     "text": [
      "/tmp/ipykernel_449864/2333118119.py:5: SettingWithCopyWarning: \n",
      "A value is trying to be set on a copy of a slice from a DataFrame.\n",
      "Try using .loc[row_indexer,col_indexer] = value instead\n",
      "\n",
      "See the caveats in the documentation: https://pandas.pydata.org/pandas-docs/stable/user_guide/indexing.html#returning-a-view-versus-a-copy\n",
      "  df_best_time['best_time'] = df_best_time['time_of_week'].apply(lambda x: reverse_date_dict[int(str(x)[0])].strftime('%d-%b-%Y')+' hour:'+str(x)[1:])\n"
     ]
    }
   ],
   "source": [
    "df_abt[['prob_0','prob_1']] = model_pipeline.predict_proba(df_abt)\n",
    "\n",
    "df_abt = df_abt.sort_values(by=['customer_id','prob_1'],ascending=[1,0])\n",
    "df_best_time = df_abt.drop_duplicates(subset='customer_id',keep='first')\n",
    "df_best_time['best_time'] = df_best_time['time_of_week'].apply(lambda x: reverse_date_dict[int(str(x)[0])].strftime('%d-%b-%Y')+' hour:'+str(x)[1:])"
   ]
  },
  {
   "cell_type": "code",
   "execution_count": 44,
   "metadata": {},
   "outputs": [],
   "source": [
    "df_best_time[['customer_id','best_time']].to_csv('sample_best_time_to_call.csv', index=False)"
   ]
  }
 ],
 "metadata": {
  "interpreter": {
   "hash": "06a6aaded2eddfacce48838df1eb48db94706e28754b48676ed0de5791f50a44"
  },
  "kernelspec": {
   "display_name": "Python 3.9.7 64-bit ('py39': conda)",
   "name": "python3"
  },
  "language_info": {
   "codemirror_mode": {
    "name": "ipython",
    "version": 3
   },
   "file_extension": ".py",
   "mimetype": "text/x-python",
   "name": "python",
   "nbconvert_exporter": "python",
   "pygments_lexer": "ipython3",
   "version": "3.9.7"
  },
  "orig_nbformat": 4
 },
 "nbformat": 4,
 "nbformat_minor": 2
}
